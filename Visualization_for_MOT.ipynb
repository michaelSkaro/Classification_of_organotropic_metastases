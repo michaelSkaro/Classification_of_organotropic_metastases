{
 "cells": [
  {
   "cell_type": "code",
   "execution_count": 61,
   "metadata": {},
   "outputs": [],
   "source": [
    "# visualization of the ROC and PRC curves following the feature selection\n",
    "\n",
    "###############################################################################\n",
    "# 10/28/20\n",
    "\n",
    "'''\n",
    "Objective: Figure quality ROC and PRC curves for MOT project \n",
    "Input:  Raw data, classifications, model outputs for plotting\n",
    "Output: Visualization + code to integrate into the pipeline\n",
    "'''\n",
    "###############################################################################\n",
    "# my major imports \n",
    "from sklearn.model_selection import train_test_split\n",
    "import numpy as np\n",
    "from sklearn.metrics import average_precision_score\n",
    "from sklearn.metrics import precision_recall_curve\n",
    "from sklearn.metrics import plot_precision_recall_curve\n",
    "import matplotlib.pyplot as plt\n",
    "import os\n",
    "import pandas as pd\n",
    "from sklearn.ensemble import RandomForestClassifier\n",
    "path = os.getcwd()\n",
    "###############################################################################\n"
   ]
  },
  {
   "cell_type": "code",
   "execution_count": 62,
   "metadata": {},
   "outputs": [
    {
     "data": {
      "text/plain": [
       "'/home/mskaro1/storage/Machine_Learning'"
      ]
     },
     "execution_count": 62,
     "metadata": {},
     "output_type": "execute_result"
    }
   ],
   "source": [
    "path"
   ]
  },
  {
   "cell_type": "code",
   "execution_count": null,
   "metadata": {},
   "outputs": [],
   "source": [
    "'''\n",
    "split data if not aready split:\n",
    "X= pd.read_csv(\"~/storage/PanCancerAnalysis/ML_2019/Metastatic_loci_consolidated/one_hot_encoded_labels/TCGA-BRCA_metastatic_data_RNAseq.csv\")\n",
    "X.drop(X.columns[0], axis=1)\n",
    "# Look at the shape of the data to construct the input layer. \n",
    "print('We have {} instances of data with {} variables'.format(*X.shape))\n",
    "\n",
    "\n",
    "y = X[[\"Bone\",\"Lung\",\"Liver\"]].to_numpy()\n",
    "n_classes = y.shape[1]\n",
    "patients = np.array(X.pop('barcode'))\n",
    "# remove the features labels\n",
    "X = X.drop([\"Bone\",\"Lung\",\"Liver\"], axis = 1) \n",
    "\n",
    "# Labels are the values we want to predict, retrun and pop them off after\n",
    "# List of features for later use\n",
    "feature_list = list(X.columns)\n",
    "# Convert to numpy array\n",
    "features = np.array(X)\n",
    "\n",
    "X_train, X_test, y_train, y_test = train_test_split(X,\n",
    "                                         y, \n",
    "                                         stratify = labels,\n",
    "                                         test_size = 0.3, \n",
    "                                         random_state = RSEED)\n",
    "\n",
    "'''"
   ]
  },
  {
   "cell_type": "code",
   "execution_count": 63,
   "metadata": {},
   "outputs": [],
   "source": [
    "# Read in the data for the learning model\n",
    "\n",
    "\n",
    "#X_train = # data for the model to train on\n",
    "#X_test = # data for the model to test on\n",
    "#y_train = # labels for the training set\n",
    "#y_test = # labels for the testing set\n",
    "\n",
    "\n",
    "X_train = pd.read_csv(\"/home/mskaro1/storage/Machine_Learning/TCGA-LIHC_metastatic_data_RNAseq_Lung_feature_selected_train.csv\")\n",
    "X_test =pd.read_csv(\"/home/mskaro1/storage/Machine_Learning/TCGA-LIHC_metastatic_data_RNAseq_Lung_feature_selected_test.csv\")\n",
    "y_train = np.array(X_train.pop('Lung'))\n",
    "y_test = np.array(X_test.pop('Lung'))\n",
    "\n"
   ]
  },
  {
   "cell_type": "code",
   "execution_count": 64,
   "metadata": {},
   "outputs": [
    {
     "name": "stdout",
     "output_type": "stream",
     "text": [
      "We have 128 instances of data with 1000 variables\n",
      "We have 69 instances of data with 1000 variables\n"
     ]
    }
   ],
   "source": [
    "print('We have {} instances of data with {} variables'.format(*X_train.shape))\n",
    "print('We have {} instances of data with {} variables'.format(*X_test.shape))"
   ]
  },
  {
   "cell_type": "code",
   "execution_count": 65,
   "metadata": {},
   "outputs": [
    {
     "name": "stderr",
     "output_type": "stream",
     "text": [
      "[Parallel(n_jobs=-1)]: Using backend ThreadingBackend with 40 concurrent workers.\n",
      "[Parallel(n_jobs=-1)]: Done 100 out of 100 | elapsed:    0.2s finished\n"
     ]
    },
    {
     "data": {
      "text/plain": [
       "RandomForestClassifier(max_features='sqrt', n_jobs=-1, random_state=77,\n",
       "                       verbose=1)"
      ]
     },
     "execution_count": 65,
     "metadata": {},
     "output_type": "execute_result"
    }
   ],
   "source": [
    "# choose the model:RF classification\n",
    "import random\n",
    "RSEED = random.randint(1,100)\n",
    "model = RandomForestClassifier(n_estimators=100, \n",
    "                               random_state=RSEED, \n",
    "                               max_features = 'sqrt', \n",
    "                               n_jobs=-1, verbose = 1)\n",
    "# Fit training data\n",
    "# this may change once marcus uses the IG algo, gpotta discuss today/tomorrow?, Also are we wrapping in Onevs rest or what?\n",
    "model.fit(X_train, y_train) # or do we wrap before fit, or is it a different fit call? look at sklearn.documentation"
   ]
  },
  {
   "cell_type": "code",
   "execution_count": 110,
   "metadata": {},
   "outputs": [
    {
     "name": "stderr",
     "output_type": "stream",
     "text": [
      "[Parallel(n_jobs=40)]: Using backend ThreadingBackend with 40 concurrent workers.\n",
      "[Parallel(n_jobs=40)]: Done 100 out of 100 | elapsed:    0.0s finished\n"
     ]
    },
    {
     "data": {
      "image/png": "[encoded data removed]",
      "text/plain": [
       "<Figure size 360x360 with 1 Axes>"
      ]
     },
     "metadata": {
      "needs_background": "light"
     },
     "output_type": "display_data"
    }
   ],
   "source": [
    "# ROC \n",
    "import seaborn as sns\n",
    "sns.set_context(\"paper\")\n",
    "\n",
    "from sklearn.metrics import average_precision_score\n",
    "from sklearn.metrics import plot_roc_curve\n",
    "fig = plt.figure(figsize=(5,5))\n",
    "ax = plt.gca()\n",
    "rfc_disp = plot_roc_curve(model, X_test, y_test, ax=ax, alpha=0.8)\n",
    "plt.plot([0,1], [0,1], color='darkorange', linestyle='-')\n",
    "\n",
    "plt.xticks(np.arange(0.0, 1.1, step=0.1))\n",
    "plt.xlabel(\"Flase Positive Rate\", fontsize=12)\n",
    "\n",
    "plt.yticks(np.arange(0.0, 1.1, step=0.1))\n",
    "plt.ylabel(\"True Positive Rate\", fontsize=12)\n",
    "\n",
    "plt.title('LIHC Lung ROC', fontweight='bold', fontsize=15)\n",
    "plt.legend(prop={'size':12}, loc='lower right')\n",
    "\n",
    "plt.show()\n",
    "fig.savefig('LIHC_Lung_roc_curve.png')"
   ]
  },
  {
   "cell_type": "code",
   "execution_count": 67,
   "metadata": {},
   "outputs": [
    {
     "name": "stderr",
     "output_type": "stream",
     "text": [
      "[Parallel(n_jobs=40)]: Using backend ThreadingBackend with 40 concurrent workers.\n",
      "[Parallel(n_jobs=40)]: Done 100 out of 100 | elapsed:    0.0s finished\n"
     ]
    }
   ],
   "source": [
    "# Compute the average precision score\n",
    "from sklearn.metrics import precision_recall_curve\n",
    "from sklearn.metrics import plot_precision_recall_curve\n",
    "import matplotlib.pyplot as plt\n",
    "from sklearn.metrics import average_precision_score\n",
    "\n",
    "y_score = model.predict_proba(X_test)[:,-1]"
   ]
  },
  {
   "cell_type": "code",
   "execution_count": 112,
   "metadata": {},
   "outputs": [
    {
     "name": "stderr",
     "output_type": "stream",
     "text": [
      "[Parallel(n_jobs=40)]: Using backend ThreadingBackend with 40 concurrent workers.\n",
      "[Parallel(n_jobs=40)]: Done 100 out of 100 | elapsed:    0.0s finished\n"
     ]
    },
    {
     "data": {
      "image/png": "[encoded data removed]",
      "text/plain": [
       "<Figure size 360x360 with 1 Axes>"
      ]
     },
     "metadata": {
      "needs_background": "light"
     },
     "output_type": "display_data"
    },
    {
     "name": "stdout",
     "output_type": "stream",
     "text": [
      "Average precision-recall score RF: 0.9644616613582131\n"
     ]
    }
   ],
   "source": [
    "from sklearn.metrics import average_precision_score, auc, roc_curve, precision_recall_curve\n",
    "\n",
    "sns.set_context(\"paper\")\n",
    "\n",
    "fig = plt.figure(figsize=(5,5))\n",
    "ax = plt.gca()\n",
    "average_precision = average_precision_score(y_test, y_score, pos_label=\"Positive\")\n",
    "disp = plot_precision_recall_curve(model, X_test, y_test, ax =ax)\n",
    "\n",
    "plt.xticks(np.arange(0.0, 1.1, step=0.1))\n",
    "plt.xlabel(\"Recall\", fontsize=12)\n",
    "\n",
    "plt.yticks(np.arange(0.0, 1.1, step=0.1))\n",
    "plt.ylabel(\"Precision\", fontsize=12)\n",
    "\n",
    "plt.title('LIHC Lung Binary PRC', fontweight='bold', fontsize=15)\n",
    "plt.legend(prop={'size':12}, loc='lower right')\n",
    "\n",
    "plt.show()\n",
    "print('Average precision-recall score RF: {}'.format(average_precision))\n",
    "fig.savefig('LIHC_Lung_PRC_curve.png')"
   ]
  },
  {
   "cell_type": "code",
   "execution_count": 69,
   "metadata": {},
   "outputs": [],
   "source": [
    "# DONE"
   ]
  },
  {
   "cell_type": "code",
   "execution_count": null,
   "metadata": {},
   "outputs": [],
   "source": []
  }
 ],
 "metadata": {
  "kernelspec": {
   "display_name": "Python 3",
   "language": "python",
   "name": "python3"
  },
  "language_info": {
   "codemirror_mode": {
    "name": "ipython",
    "version": 3
   },
   "file_extension": ".py",
   "mimetype": "text/x-python",
   "name": "python",
   "nbconvert_exporter": "python",
   "pygments_lexer": "ipython3",
   "version": "3.6.9"
  }
 },
 "nbformat": 4,
 "nbformat_minor": 4
}
